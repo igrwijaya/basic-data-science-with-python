{
 "cells": [
  {
   "cell_type": "code",
   "execution_count": null,
   "id": "22b890a3",
   "metadata": {},
   "outputs": [],
   "source": [
    "# ---------------------------------------------- #\n",
    "# Assignment Operator\n",
    "\n",
    "x = 8\n",
    "y = 10\n",
    "print(x+y) # output: 18\n",
    "# ---------------------------------------------- #"
   ]
  },
  {
   "cell_type": "code",
   "execution_count": null,
   "id": "9b0bcb1d",
   "metadata": {
    "scrolled": true
   },
   "outputs": [],
   "source": [
    "# ---------------------------------------------- #\n",
    "# Comparison Operator\n",
    "\n",
    "a = \"wadah gula aren\"\n",
    "b = \"gula aren\"\n",
    "print(len(a)) # output: 15\n",
    "print(len(b)) # output: 9\n",
    "print(a > b) # output: True\n",
    "# ---------------------------------------------- #"
   ]
  },
  {
   "cell_type": "code",
   "execution_count": null,
   "id": "2552333b",
   "metadata": {},
   "outputs": [],
   "source": [
    "# ---------------------------------------------- #\n",
    "# Logical Operator\n",
    "\n",
    "x = 7\n",
    "y = 8\n",
    "print(x == 8 and y == 8) # output: False\n",
    "print(x == 8 or y == 8) # output: True\n",
    "\n",
    "z = (x == 8 or y == 8)\n",
    "print(z) # output: True\n",
    "# ---------------------------------------------- #"
   ]
  },
  {
   "cell_type": "code",
   "execution_count": null,
   "id": "3de1d790",
   "metadata": {},
   "outputs": [],
   "source": [
    "# ---------------------------------------------- #\n",
    "# Data Structure\n",
    "# List\n",
    "# list can be added, update, remove\n",
    "\n",
    "students = [\"Toni\", \"Gede\", \"Wahyu\"]\n",
    "print(students) # output: ['Toni', 'Gede', 'Wahyu']\n",
    "\n",
    "# to add item to list\n",
    "students.append(\"Yono\")\n",
    "print(students) # output: ['Toni', 'Gede', 'Wahyu', 'Yono']\n",
    "\n",
    "# to remove last item in list\n",
    "students.pop()\n",
    "print(students) # output: ['Toni', 'Gede', 'Wahyu']\n",
    "\n",
    "# to remove specific item in list\n",
    "students.pop(0)\n",
    "print(students) # output: ['Gede', 'Wahyu']\n",
    "\n",
    "# to edit item in the list\n",
    "students[1] = \"Wijaya\"\n",
    "print(students) # output: ['Gede', 'Wijaya']\n",
    "\n",
    "randomVals = [1, \"Budi\", False]\n",
    "print(randomVals) # output: [1, 'Budi', False]\n",
    "# ---------------------------------------------- #"
   ]
  },
  {
   "cell_type": "code",
   "execution_count": null,
   "id": "53ce5136",
   "metadata": {},
   "outputs": [],
   "source": [
    "# ---------------------------------------------- #\n",
    "# Data Structure\n",
    "# Tuples\n",
    "# tuples cannot added or update or remove. Initial / read only\n",
    "\n",
    "# initial Tuples\n",
    "scores = (\"20\", \"40\", \"80\")\n",
    "print(scores) # output: ('20', '40', '80')\n",
    "# ---------------------------------------------- #"
   ]
  },
  {
   "cell_type": "code",
   "execution_count": null,
   "id": "91e0ba9d",
   "metadata": {
    "scrolled": true
   },
   "outputs": [],
   "source": [
    "# ---------------------------------------------- #\n",
    "# Data Structure\n",
    "# Set\n",
    "# set is collection of unique data / value\n",
    "\n",
    "\n",
    "# initial Set\n",
    "ingridients = {\"salt\", \"salt\", \"sugar\"}\n",
    "print(ingridients) # output: {'salt', 'sugar'}\n",
    "\n",
    "# parse as Set from List\n",
    "students = [\"Budi\", \"Tono\", \"Wayan\", \"Tono\"]\n",
    "print(set(students)) # output: {'Budi', 'Tono', 'Wayan'}\n",
    "# ---------------------------------------------- #"
   ]
  },
  {
   "cell_type": "code",
   "execution_count": null,
   "id": "898c5e35",
   "metadata": {
    "scrolled": true
   },
   "outputs": [],
   "source": [
    "# ---------------------------------------------- #\n",
    "# Data Structure\n",
    "# Dictionary\n",
    "# Dictionary is collection with \"key\" and \"value\"\n",
    "\n",
    "# initial dictitonary\n",
    "profile = {}\n",
    "profile['name'] = 'Gede'\n",
    "profile['email'] = 'wijaya@mailinator.com'\n",
    "print(profile) # output: {'name': 'Gede', 'email': 'wijaya@mailinator.com'}\n",
    "\n",
    "# get by key\n",
    "print(profile['name']) # output: Gede\n",
    "\n",
    "# update by key\n",
    "profile['name'] = 'Wijaya'\n",
    "print(profile['name']) # output: Wijaya\n",
    "\n",
    "# delete by key\n",
    "del profile['email']\n",
    "print(profile) # output: {'name': 'Wijaya'}\n",
    "# ---------------------------------------------- #"
   ]
  },
  {
   "cell_type": "code",
   "execution_count": null,
   "id": "dd0d9618",
   "metadata": {},
   "outputs": [],
   "source": [
    "# ---------------------------------------------- #\n",
    "# Flow Control\n",
    "\n",
    "# if..else\n",
    "\n",
    "studentScore = 8\n",
    "\n",
    "if studentScore > 7:\n",
    "    print('Passed')\n",
    "elif studentScore < 7:\n",
    "    print('Not Passed')\n",
    "else:\n",
    "    print('Study Over Again')\n",
    "# output: Passed\n",
    "\n",
    "randomNumb = 80\n",
    "\n",
    "if randomNumb % 2 == 0:\n",
    "    print(randomNumb, 'is', 'an Even Number')\n",
    "else:\n",
    "    print(randomNumb, 'is', 'an Odd Number')\n",
    "# output: 80 is an Even Number\n",
    "# ---------------------------------------------- #"
   ]
  },
  {
   "cell_type": "code",
   "execution_count": 3,
   "id": "6dd65f37",
   "metadata": {},
   "outputs": [
    {
     "name": "stdout",
     "output_type": "stream",
     "text": [
      "1 is not Adult\n",
      "2 is not Adult\n",
      "3 is not Adult\n",
      "4 is not Adult\n"
     ]
    }
   ],
   "source": [
    "# ---------------------------------------------- #\n",
    "# Flow Control\n",
    "\n",
    "# while..loop\n",
    "\n",
    "age = 1\n",
    "\n",
    "while(age < 5):\n",
    "    print(age, \"is\", \"not Adult\")\n",
    "    age += 1\n",
    "# output:\n",
    "# 1 is not Adult\n",
    "# 2 is not Adult\n",
    "# 3 is not Adult\n",
    "# 4 is not Adult\n",
    "# ---------------------------------------------- #"
   ]
  },
  {
   "cell_type": "code",
   "execution_count": 6,
   "id": "826345e3",
   "metadata": {},
   "outputs": [
    {
     "name": "stdout",
     "output_type": "stream",
     "text": [
      "DSC\n",
      "BI\n",
      "FSD\n",
      "DSC\n",
      "BI\n",
      "BI\n",
      "FSD\n"
     ]
    }
   ],
   "source": [
    "# ---------------------------------------------- #\n",
    "# Flow Control\n",
    "\n",
    "# for..loop\n",
    "courses = ['DSC', 'BI', 'FSD']\n",
    "\n",
    "for course in courses:\n",
    "    print(course)\n",
    "# output:\n",
    "# DSC\n",
    "# BI\n",
    "# FSD\n",
    "\n",
    "# using \"break\" in for..loop (break = force stop the looping process)\n",
    "for course in courses:\n",
    "    print(course)    \n",
    "    if course == 'BI':\n",
    "        break\n",
    "# output:\n",
    "# DSC\n",
    "# BI\n",
    "\n",
    "# using \"continue\"  in for..loop (contine = to skip the rest of logic and contine to the next looping process)\n",
    "for course in courses:\n",
    "    if course == 'DSC':\n",
    "        continue\n",
    "    print(course)\n",
    "# output:\n",
    "# BI\n",
    "# FSD\n",
    "\n",
    "# ---------------------------------------------- #"
   ]
  },
  {
   "cell_type": "code",
   "execution_count": 10,
   "id": "46c4d373",
   "metadata": {},
   "outputs": [
    {
     "name": "stdout",
     "output_type": "stream",
     "text": [
      "Gede\n",
      "1900\n",
      "1100\n"
     ]
    }
   ],
   "source": [
    "# ---------------------------------------------- #\n",
    "# Function\n",
    "# Function without Parameters\n",
    "def renderName():\n",
    "    print('Gede')\n",
    "\n",
    "# call function\n",
    "renderName() # output: Gede\n",
    "\n",
    "# Function with Parameters\n",
    "def calculateCustomerPayment(totalPrice, qty, discount):\n",
    "    totalPayment = (totalPrice * qty) - discount\n",
    "    print(totalPayment)\n",
    "\n",
    "# call function\n",
    "calculateCustomerPayment(1000, 2, 100) # output: 1900\n",
    "\n",
    "# Function with Default Parameters\n",
    "def calculatePrice(itemPrice, comission = 100):\n",
    "    price = itemPrice + comission\n",
    "    print(price)\n",
    "    \n",
    "# call function\n",
    "calculatePrice(1000) # output: 1100\n",
    "\n",
    "# ---------------------------------------------- #"
   ]
  },
  {
   "cell_type": "code",
   "execution_count": null,
   "id": "e177dba1",
   "metadata": {},
   "outputs": [],
   "source": [
    "# ---------------------------------------------- #\n",
    "# User Input\n",
    "\n",
    "#age = input(\"Your age:\") # by default the data type is string\n",
    "# ---------------------------------------------- #"
   ]
  }
 ],
 "metadata": {
  "kernelspec": {
   "display_name": "Python 3 (ipykernel)",
   "language": "python",
   "name": "python3"
  },
  "language_info": {
   "codemirror_mode": {
    "name": "ipython",
    "version": 3
   },
   "file_extension": ".py",
   "mimetype": "text/x-python",
   "name": "python",
   "nbconvert_exporter": "python",
   "pygments_lexer": "ipython3",
   "version": "3.11.3"
  }
 },
 "nbformat": 4,
 "nbformat_minor": 5
}

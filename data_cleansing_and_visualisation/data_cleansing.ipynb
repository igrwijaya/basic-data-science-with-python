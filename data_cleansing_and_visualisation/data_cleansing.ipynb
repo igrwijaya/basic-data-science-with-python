{
 "cells": [
  {
   "cell_type": "code",
   "execution_count": 4,
   "id": "6750a3b0-4456-49b5-a820-e78e271addd7",
   "metadata": {},
   "outputs": [
    {
     "name": "stdout",
     "output_type": "stream",
     "text": [
      "   apples  oranges\n",
      "0       3        0\n",
      "1       2        3\n",
      "2       0        7\n",
      "3       1        2\n"
     ]
    }
   ],
   "source": [
    "import pandas as pd\n",
    "import re\n",
    "\n",
    "# Todo with Pandas:\n",
    "# Dataframe = table\n",
    "# import csv, json, sql to dataframe\n",
    "# export dataframe to csv or json\n",
    "# searching in dataframe\n",
    "# fix duplicate and missing values\n",
    "\n",
    "data = {\n",
    "    'apples': [3,2,0,1],\n",
    "    'oranges': [0,3,7,2]\n",
    "}\n",
    "\n",
    "purchase_df = pd.DataFrame(data)\n",
    "print(purchase_df)"
   ]
  }
 ],
 "metadata": {
  "kernelspec": {
   "display_name": "Python 3 (ipykernel)",
   "language": "python",
   "name": "python3"
  },
  "language_info": {
   "codemirror_mode": {
    "name": "ipython",
    "version": 3
   },
   "file_extension": ".py",
   "mimetype": "text/x-python",
   "name": "python",
   "nbconvert_exporter": "python",
   "pygments_lexer": "ipython3",
   "version": "3.11.3"
  }
 },
 "nbformat": 4,
 "nbformat_minor": 5
}
